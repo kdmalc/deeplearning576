{
 "cells": [
  {
   "cell_type": "markdown",
   "id": "70c1f482",
   "metadata": {},
   "source": [
    "# Assignment 2\n",
    "\n",
    "# Part 1: CIFAR-10"
   ]
  },
  {
   "cell_type": "code",
   "execution_count": 1,
   "id": "4826f6c4",
   "metadata": {},
   "outputs": [
    {
     "data": {
      "text/plain": [
       "0"
      ]
     },
     "execution_count": 1,
     "metadata": {},
     "output_type": "execute_result"
    }
   ],
   "source": [
    "# -*- coding: utf-8 -*-\n",
    "\"\"\"Assignment_2_Part_1_Cifar10_vp1.ipynb\n",
    "\n",
    "Purpose: Implement image classsification nn the cifar10\n",
    "dataset using a pytorch implementation of a CNN architecture (LeNet5)\n",
    "\n",
    "Pseudocode:\n",
    "1) Set Pytorch metada\n",
    "- seed\n",
    "- tensorboard output (logging)\n",
    "- whether to transfer to gpu (cuda)\n",
    "\n",
    "2) Import the data\n",
    "- download the data\n",
    "- create the pytorch datasets\n",
    "    scaling\n",
    "- create pytorch dataloaders\n",
    "    transforms\n",
    "    batch size\n",
    "\n",
    "3) Define the model architecture, loss and optimizer\n",
    "\n",
    "4) Define Test and Training loop\n",
    "    - Train:\n",
    "        a. get next batch\n",
    "        b. forward pass through model\n",
    "        c. calculate loss\n",
    "        d. backward pass from loss (calculates the gradient for each parameter)\n",
    "        e. optimizer: performs weight updates\n",
    "        f. Calculate accuracy, other stats\n",
    "    - Test:\n",
    "        a. Calculate loss, accuracy, other stats\n",
    "\n",
    "5) Perform Training over multiple epochs:\n",
    "    Each epoch:\n",
    "    - call train loop\n",
    "    - call test loop\n",
    "\"\"\"\n",
    "0"
   ]
  },
  {
   "cell_type": "code",
   "execution_count": 2,
   "id": "fe0cb148",
   "metadata": {},
   "outputs": [],
   "source": [
    "# Step 1: Pytorch and Training Metadata\n",
    "\n",
    "import torch\n",
    "import torch.nn as nn\n",
    "import torch.nn.functional as F\n",
    "import torch.optim as optim\n",
    "from torchvision import datasets, transforms\n",
    "from torch.utils.data import DataLoader\n",
    "\n",
    "from torch.utils.tensorboard import SummaryWriter\n",
    "from datetime import datetime\n",
    "import os\n",
    "from pathlib import Path"
   ]
  },
  {
   "cell_type": "code",
   "execution_count": 66,
   "id": "82cdc67a",
   "metadata": {},
   "outputs": [],
   "source": [
    "#hyperparameters\n",
    "batch_size = 128\n",
    "try_cuda = True\n",
    "seed = 1000\n",
    "# Architecture\n",
    "num_classes = 10\n",
    "#otherum\n",
    "logging_interval = 10 # how many batches to wait before logging\n",
    "logging_dir = None\n",
    "grayscale = True\n",
    "\n",
    "# 1) setting up the logging\n",
    "\n",
    "datetime_str = datetime.now().strftime('%b%d_%H-%M-%S')\n",
    "\n",
    "if logging_dir is None:\n",
    "    runs_dir = Path(\"./\") / Path(f\"runs/\")\n",
    "    runs_dir.mkdir(exist_ok = True)\n",
    "\n",
    "    logging_dir = runs_dir / Path(f\"{datetime_str}\")\n",
    "\n",
    "    logging_dir.mkdir(exist_ok = True)\n",
    "    logging_dir = str(logging_dir.absolute())\n",
    "\n",
    "writer = SummaryWriter(log_dir=logging_dir)\n",
    "\n",
    "#deciding whether to send to the cpu or not if available\n",
    "if torch.cuda.is_available() and try_cuda:\n",
    "    cuda = True\n",
    "    torch.cuda.manual_seed(seed)\n",
    "else:\n",
    "    cuda = False\n",
    "    torch.manual_seed(seed)"
   ]
  },
  {
   "cell_type": "code",
   "execution_count": 4,
   "id": "35e56827",
   "metadata": {},
   "outputs": [
    {
     "name": "stdout",
     "output_type": "stream",
     "text": [
      "Files already downloaded and verified\n",
      "Files already downloaded and verified\n",
      "Image batch dimensions: torch.Size([128, 1, 32, 32])\n",
      "Image label dimensions: torch.Size([128])\n",
      "Image batch dimensions: torch.Size([128, 1, 32, 32])\n",
      "Image label dimensions: torch.Size([128])\n"
     ]
    }
   ],
   "source": [
    "\"\"\"# Step 2: Data Setup\"\"\"\n",
    "\n",
    "#transform=[insert-code: create transforms, will need to include turning data grayscale]\n",
    "#train_dataset = [insert-code: download and transform cifar10 training data]\n",
    "#test_dataset = [insert-code: download and transform cifar10 test data]\n",
    "#train_loader = [insert-code: create train data loader]\n",
    "#test_loader = [insert-code: create test data loader]\n",
    "transform = transforms.Compose([\n",
    "    transforms.Grayscale(num_output_channels=1),  # Convert images to grayscale\n",
    "    transforms.ToTensor(),  # Converts to torch.FloatTensor of shape (C x H x W) in the range [0.0, 1.0]\n",
    "    transforms.Normalize((0.5,), (0.5,))  # Scale values to range [-1, 1]\n",
    "])\n",
    "# Download CIFAR-10 dataset (<datasets> is from torchvision)\n",
    "train_dataset = datasets.CIFAR10(root='./data', train=True, download=True, transform=transform)\n",
    "test_dataset = datasets.CIFAR10(root='./data', train=False, download=True, transform=transform)\n",
    "# Set up train/test loaders\n",
    "train_loader = torch.utils.data.DataLoader(dataset=train_dataset, batch_size=batch_size, shuffle=True)\n",
    "test_loader = torch.utils.data.DataLoader(dataset=test_dataset, batch_size=batch_size, shuffle=False)\n",
    "\n",
    "def check_data_loader_dim(loader):\n",
    "    # Checking the dataset\n",
    "    for images, labels in loader:\n",
    "        print('Image batch dimensions:', images.shape)\n",
    "        print('Image label dimensions:', labels.shape)\n",
    "        break\n",
    "\n",
    "check_data_loader_dim(train_loader)\n",
    "check_data_loader_dim(test_loader)"
   ]
  },
  {
   "cell_type": "code",
   "execution_count": 68,
   "id": "e50456f2",
   "metadata": {
    "scrolled": true
   },
   "outputs": [],
   "source": [
    "\"\"\"# 3) Creating the Model\"\"\"\n",
    "\n",
    "layer_1_n_filters = 32\n",
    "layer_2_n_filters = 64\n",
    "fc_1_n_nodes = 1024\n",
    "padding=\"same\"\n",
    "kernel_size = 5\n",
    "verbose = False\n",
    "\n",
    "# calculating the side length of the final activation maps\n",
    "#final_length = [insert-code: calculate the dimension of the output of the \\\n",
    "#            CNN stage before the MLP layers given the previous 2 convolutional layers \\\n",
    "#                with the current padding setting, kernel size and maxpooling\n",
    "#            ]\n",
    "first_length = int((layer_1_n_filters - kernel_size + 2*((kernel_size-1)//2)) / 2) + 1\n",
    "final_length = int((first_length - kernel_size + 2*((kernel_size-1)//2)) / 2) + 1\n",
    "\n",
    "if verbose:\n",
    "    print(f\"final_length = {final_length}\")\n",
    "\n",
    "\n",
    "class LeNet5(nn.Module):\n",
    "\n",
    "    def __init__(self, num_classes, grayscale=False):\n",
    "        super(LeNet5, self).__init__()\n",
    "\n",
    "        self.grayscale = grayscale\n",
    "        self.num_classes = num_classes\n",
    "\n",
    "        if self.grayscale:\n",
    "            in_channels = 1\n",
    "        else:\n",
    "            in_channels = 3\n",
    "\n",
    "        self.features = nn.Sequential(\n",
    "            #[insert-code]\n",
    "            \n",
    "            # LENET5 ARCHITECTURE:\n",
    "            #Convolutional layer with kernel 5 x 5 and 32 filter maps followed by ReLU\n",
    "            nn.Conv2d(in_channels, layer_1_n_filters, kernel_size=kernel_size, padding=padding),\n",
    "            nn.ReLU(),\n",
    "            #Max Pooling layer subsampling by 2\n",
    "            nn.MaxPool2d(kernel_size=2, stride=2),\n",
    "            #Convolutional layer with kernel 5 x 5 and 64 filter maps followed by ReLU\n",
    "            nn.Conv2d(layer_1_n_filters, layer_2_n_filters, kernel_size=kernel_size, padding=padding),\n",
    "            nn.ReLU(),\n",
    "            #Max Pooling layer subsampling by 2\n",
    "            nn.MaxPool2d(kernel_size=2, stride=2)\n",
    "            # THESE ARE THE FC LAYERS AND PROBABILITY LAYER\n",
    "            #Fully Connected layer that has input 7*7*64 and output 1024\n",
    "            #Fully Connected layer that has input 1024 and output 10 (for the classes)\n",
    "            #Softmax layer (Softmax Regression + Softmax Nonlinearity)\n",
    "        )\n",
    "        \n",
    "        self.classifier = nn.Sequential(\n",
    "            nn.Linear(final_length*final_length*layer_2_n_filters*in_channels, fc_1_n_nodes),\n",
    "            nn.Tanh(),\n",
    "            nn.Linear(fc_1_n_nodes, num_classes)\n",
    "        )\n",
    "\n",
    "\n",
    "    def forward(self, x):\n",
    "        #x = [insert-code: send input through convolutional layers]\n",
    "        x = self.features(x)\n",
    "        x = x.view(x.size(0), -1) \n",
    "        #x = [insert-code: send input through MLP layers]\n",
    "        logits = self.classifier(x)\n",
    "        #Softmax layer (Softmax Regression + Softmax Nonlinearity)\n",
    "        probas = F.softmax(logits, dim=1)\n",
    "        return logits, probas\n",
    "\n",
    "model = LeNet5(num_classes, grayscale=grayscale)\n",
    "\n",
    "# Idk what this is doing... I prefer the device method\n",
    "#if cuda:\n",
    "    #model.cuda()\n",
    "device = torch.device(\"cuda\" if torch.cuda.is_available() else \"cpu\")"
   ]
  },
  {
   "cell_type": "code",
   "execution_count": 69,
   "id": "5ef25c98",
   "metadata": {},
   "outputs": [],
   "source": [
    "#optimizer = [insert-code: USE AN ADAM OPTIMIZER]\n",
    "# Set all the learning hyperparams\n",
    "#epochs = 25 # 5_500 iters of 50-image batches from a 55_000 image dataset = 5 epochs through the whole dataset\n",
    "epochs = 5\n",
    "lr = 0.001 #1e-3 #1e-4    #0.001 WAS THE DEFAULT\n",
    "optimizer = optim.Adam(model.parameters(), lr=lr) \n",
    "#optimizer = optim.SGD(model.parameters(), lr=lr) \n",
    "#optimizer = optim.Adagrad(model.parameters(), lr=lr) \n",
    "#optimizer = optim.Nadam(model.parameters(), lr=lr)\n",
    "#dropout = 0.8"
   ]
  },
  {
   "cell_type": "code",
   "execution_count": 70,
   "id": "be33618d",
   "metadata": {},
   "outputs": [],
   "source": [
    "\"\"\"# Step 4: Train/Test Loop\"\"\"\n",
    "\n",
    "# Defining the test and training loops\n",
    "\n",
    "def train(epoch):\n",
    "    running_loss = 0\n",
    "    total_correct = 0\n",
    "    total_samples = 0\n",
    "\n",
    "    model.train()\n",
    "\n",
    "    criterion = nn.CrossEntropyLoss()\n",
    "    for batch_idx, (data, target) in enumerate(train_loader):\n",
    "        #[insert-code: move data to GPU]\n",
    "        data, target = data.to(device), target.to(device)\n",
    "\n",
    "        optimizer.zero_grad()\n",
    "        logits, probas = model(data) # forward\n",
    "        \n",
    "        #[insert-code: finish training loop and logging metrics]\n",
    "        # Calculate the loss\n",
    "        loss = criterion(logits, target)\n",
    "        running_loss += loss.item()\n",
    "        # Backward pass\n",
    "        loss.backward()\n",
    "        # Update weights\n",
    "        optimizer.step()\n",
    "\n",
    "        # Get predicted labels\n",
    "        pred_labels = torch.argmax(probas, dim=1)\n",
    "        total_correct += torch.sum(pred_labels == target).item()\n",
    "        total_samples += data.size(0)\n",
    "        \n",
    "    # Log training statistics\n",
    "    print(f'Train Epoch: {epoch} [{batch_idx * len(data)}/{len(train_loader.dataset)} '\n",
    "                  f'({100. * batch_idx / len(train_loader):.0f}%)]\\tLoss: {loss.item():.6f}')\n",
    "\n",
    "    #[insert-code: Log model parameters to TensorBoard at every epoch]    \n",
    "    for name, param in model.named_parameters():\n",
    "        # Mmm would this need to be updated if data was on GPU instead? I'm not using GPU tho\n",
    "        writer.add_histogram(name, param.clone().cpu().data.numpy(), epoch)\n",
    "        \n",
    "    accuracy = total_correct / total_samples\n",
    "    loss = running_loss / total_samples\n",
    "    return loss, accuracy\n",
    "\n",
    "\n",
    "def test(epoch):\n",
    "    model.eval()\n",
    "    test_loss = 0\n",
    "    correct = 0\n",
    "    #criterion = nn.CrossEntropyLoss(size_average = False)\n",
    "    criterion = nn.CrossEntropyLoss(reduction='sum')  # 'size_average' might be deprecated, use 'reduction' instead?\n",
    "    with torch.no_grad():\n",
    "        for data, target in test_loader:\n",
    "            # Move data to GPU if available\n",
    "            data, target = data.to(device), target.to(device)\n",
    "\n",
    "            logits, probas = model(data)\n",
    "\n",
    "            #[insert-code: finish testing loop and logging metrics]\n",
    "            # Calculate the loss\n",
    "            test_loss += criterion(logits, target).item()\n",
    "            # Get predicted labels\n",
    "            pred_labels = torch.argmax(probas, dim=1)\n",
    "            correct += torch.sum(pred_labels == target).item()\n",
    "\n",
    "    # Assuming I need to log this to tensorboard? ##############################################################################\n",
    "    # Calculate average test loss and accuracy\n",
    "    test_loss /= len(test_loader.dataset)\n",
    "    accuracy = correct / len(test_loader.dataset)\n",
    "    print(f'Test Epoch: {epoch}\\tAverage loss: {test_loss:.4f}\\tAccuracy: {accuracy:.4f}')\n",
    "    \n",
    "    return test_loss, accuracy"
   ]
  },
  {
   "cell_type": "code",
   "execution_count": 30,
   "id": "783d10df",
   "metadata": {
    "scrolled": true
   },
   "outputs": [
    {
     "name": "stdout",
     "output_type": "stream",
     "text": [
      "Train Epoch: 0 [31200/50000 (100%)]\tLoss: 0.599315\n",
      "Test Epoch: 0\tAverage loss: 0.9810\tAccuracy: 0.6815\n",
      "Train Epoch: 1 [31200/50000 (100%)]\tLoss: 0.687112\n",
      "Test Epoch: 1\tAverage loss: 0.9789\tAccuracy: 0.6819\n",
      "Train Epoch: 2 [31200/50000 (100%)]\tLoss: 0.672049\n",
      "Test Epoch: 2\tAverage loss: 1.0281\tAccuracy: 0.6777\n",
      "Train Epoch: 3 [31200/50000 (100%)]\tLoss: 0.474690\n",
      "Test Epoch: 3\tAverage loss: 0.9852\tAccuracy: 0.6948\n",
      "Train Epoch: 4 [31200/50000 (100%)]\tLoss: 0.454755\n",
      "Test Epoch: 4\tAverage loss: 1.0001\tAccuracy: 0.6962\n"
     ]
    }
   ],
   "source": [
    "#[insert-code: running test and training over epoch]\n",
    "\n",
    "train_loss_list = []\n",
    "train_accuracy_list = []\n",
    "test_loss_list = []\n",
    "test_accuracy_list = []\n",
    "    \n",
    "for epoch in range(epochs):\n",
    "    train_loss, train_accuracy = train(epoch)\n",
    "    test_loss, test_accuracy = test(epoch)\n",
    "    \n",
    "    train_loss_list.append(train_loss)\n",
    "    train_accuracy_list.append(train_accuracy)\n",
    "    test_loss_list.append(test_loss)\n",
    "    test_accuracy_list.append(test_accuracy)  "
   ]
  },
  {
   "cell_type": "code",
   "execution_count": 31,
   "id": "9a428cc0",
   "metadata": {},
   "outputs": [
    {
     "data": {
      "text/plain": [
       "'\\n#https://stackoverflow.com/questions/55970686/tensorboard-not-found-as-magic-function-in-jupyter\\n\\n#seems to be working in firefox when not working in Google Chrome when running in Colab\\n#https://stackoverflow.com/questions/64218755/getting-error-403-in-google-colab-with-tensorboard-with-firefox\\n\\n\\n# %load_ext tensorboard\\n# %tensorboard --logdir [dir]\\n\\n'"
      ]
     },
     "execution_count": 31,
     "metadata": {},
     "output_type": "execute_result"
    }
   ],
   "source": [
    "writer.close()\n",
    "\n",
    "# Commented out IPython magic to ensure Python compatibility.\n",
    "\"\"\"\n",
    "#https://stackoverflow.com/questions/55970686/tensorboard-not-found-as-magic-function-in-jupyter\n",
    "\n",
    "#seems to be working in firefox when not working in Google Chrome when running in Colab\n",
    "#https://stackoverflow.com/questions/64218755/getting-error-403-in-google-colab-with-tensorboard-with-firefox\n",
    "\n",
    "\n",
    "# %load_ext tensorboard\n",
    "# %tensorboard --logdir [dir]\n",
    "\n",
    "\"\"\""
   ]
  },
  {
   "cell_type": "markdown",
   "id": "f13047d5",
   "metadata": {},
   "source": [
    "## 1b: Plot train/test accuracy and and train loss. "
   ]
  },
  {
   "cell_type": "code",
   "execution_count": 32,
   "id": "8f17823e",
   "metadata": {},
   "outputs": [],
   "source": [
    "import matplotlib.pyplot as plt\n",
    "import numpy as np"
   ]
  },
  {
   "cell_type": "code",
   "execution_count": 34,
   "id": "9a991bf3",
   "metadata": {},
   "outputs": [
    {
     "data": {
      "image/png": "[encoded data removed]",
      "text/plain": [
       "<Figure size 1000x500 with 1 Axes>"
      ]
     },
     "metadata": {},
     "output_type": "display_data"
    }
   ],
   "source": [
    "# Plotting accuracy curves\n",
    "plt.figure(figsize=(10, 5))\n",
    "plt.plot(train_accuracy_list, label='Training Accuracy')\n",
    "plt.plot(test_accuracy_list, label='Testing Accuracy')\n",
    "plt.xticks(range(epochs))\n",
    "plt.xlabel('Epoch')\n",
    "plt.ylabel('Accuracy')\n",
    "plt.legend()\n",
    "plt.title('Training and Testing Accuracy Curves')\n",
    "plt.show()"
   ]
  },
  {
   "cell_type": "markdown",
   "id": "b64197e1",
   "metadata": {},
   "source": [
    "In addition, try to search for good hyperparameters (e.g. training methods, learning rate, momentum values ...). Hint: Run a few epochs for each set of hyper-parameters and see how train/test accuracy and train loss change."
   ]
  },
  {
   "cell_type": "code",
   "execution_count": 35,
   "id": "53d6d8d8",
   "metadata": {},
   "outputs": [],
   "source": [
    "from torch.optim.lr_scheduler import StepLR"
   ]
  },
  {
   "cell_type": "code",
   "execution_count": 60,
   "id": "06a53321",
   "metadata": {},
   "outputs": [],
   "source": [
    "def short_hyperparam_run(opt_str, learning_rate, epochs=3, input_momentum=0.9, rmsprop_dampening=0.9, l2_wd=1e-4, use_scheduler=False):\n",
    "\n",
    "    model = LeNet5(num_classes, grayscale=grayscale)\n",
    "\n",
    "    if opt_str.upper() == 'ADAM':\n",
    "        print(\"ADAM does not use momentum as a parameter\\n\")\n",
    "        optimizer = optim.Adam(model.parameters(), lr=learning_rate, weight_decay=l2_wd) \n",
    "    elif opt_str.upper() == 'SGD':\n",
    "        optimizer = optim.SGD(model.parameters(), lr=learning_rate, momentum=input_momentum, weight_decay=l2_wd) \n",
    "    elif opt_str.upper() == 'ADAGRAD':\n",
    "        print(\"ADAGRAD does not use momentum as a parameter\\n\")\n",
    "        optimizer = optim.Adagrad(model.parameters(), lr=learning_rate, weight_decay=l2_wd) \n",
    "    elif opt_str.upper() == 'NADAM':\n",
    "        optimizer = optim.Nadam(model.parameters(), lr=learning_rate, momentum=input_momentum, weight_decay=l2_wd)\n",
    "    elif opt_str.upper() == 'RMSPROP':\n",
    "        optimizer = optim.RMSprop(model.parameters(), lr=learning_rate, momentum=input_momentum, weight_decay=l2_wd) #dampening=rmsprop_dampening, \n",
    "    else:\n",
    "        raise ValueError('Optimizer not defined')\n",
    "\n",
    "    if use_scheduler:\n",
    "        scheduler = StepLR(optimizer, step_size=30, gamma=0.1)\n",
    "\n",
    "    train_loss_list = []\n",
    "    train_accuracy_list = []\n",
    "    test_loss_list = []\n",
    "    test_accuracy_list = []\n",
    "\n",
    "    for epoch in range(epochs):\n",
    "        print(f\"Epoch {epoch+1} of {epochs}\")\n",
    "        train_loss, train_accuracy = train(epoch)\n",
    "        test_loss, test_accuracy = test(epoch)\n",
    "\n",
    "        train_loss_list.append(train_loss)\n",
    "        train_accuracy_list.append(train_accuracy)\n",
    "        test_loss_list.append(test_loss)\n",
    "        test_accuracy_list.append(test_accuracy)  \n",
    "        print()\n",
    "\n",
    "    # Plotting accuracy curves\n",
    "    plt.figure(figsize=(10, 5))\n",
    "    plt.plot(train_accuracy_list, label='Training Accuracy')\n",
    "    plt.plot(test_accuracy_list, label='Testing Accuracy')\n",
    "    plt.xticks(range(epochs))\n",
    "    plt.xlabel('Epoch')\n",
    "    plt.ylabel('Accuracy')\n",
    "    plt.legend()\n",
    "    plt.title('Training and Testing Accuracy Curves')\n",
    "    plt.show()"
   ]
  },
  {
   "cell_type": "code",
   "execution_count": 50,
   "id": "82a86fd2",
   "metadata": {},
   "outputs": [
    {
     "name": "stdout",
     "output_type": "stream",
     "text": [
      "final_length: 8\n",
      "num_classes: 10\n",
      "ADAM does not use momentum as a parameter\n",
      "Train Epoch: 0 [31200/50000 (100%)]\tLoss: 0.316298\n",
      "Test Epoch: 0\tAverage loss: 1.0096\tAccuracy: 0.6980\n",
      "Train Epoch: 1 [31200/50000 (100%)]\tLoss: 0.267414\n",
      "Test Epoch: 1\tAverage loss: 1.0487\tAccuracy: 0.6947\n",
      "Train Epoch: 2 [31200/50000 (100%)]\tLoss: 0.385131\n",
      "Test Epoch: 2\tAverage loss: 1.0820\tAccuracy: 0.6953\n"
     ]
    },
    {
     "data": {
      "image/png": "[encoded data removed]",
      "text/plain": [
       "<Figure size 1000x500 with 1 Axes>"
      ]
     },
     "metadata": {},
     "output_type": "display_data"
    }
   ],
   "source": [
    "#short_hyperparam_run(optimizer, learning_rate, epochs=3, input_momentum=0.9, rmsprop_dampening=0.9, l2_wd=1e-4, use_scheduler=False)\n",
    "\n",
    "short_hyperparam_run(opt_str='ADAM', learning_rate=1e-3, l2_wd=1e-4)"
   ]
  },
  {
   "cell_type": "code",
   "execution_count": 67,
   "id": "b5d7f980",
   "metadata": {},
   "outputs": [
    {
     "name": "stdout",
     "output_type": "stream",
     "text": [
      "Epoch 1 of 3\n"
     ]
    },
    {
     "ename": "RuntimeError",
     "evalue": "mat1 and mat2 shapes cannot be multiplied (64x3136 and 4096x1024)",
     "output_type": "error",
     "traceback": [
      "\u001b[1;31m---------------------------------------------------------------------------\u001b[0m",
      "\u001b[1;31mRuntimeError\u001b[0m                              Traceback (most recent call last)",
      "Cell \u001b[1;32mIn[67], line 1\u001b[0m\n\u001b[1;32m----> 1\u001b[0m \u001b[43mshort_hyperparam_run\u001b[49m\u001b[43m(\u001b[49m\u001b[43mopt_str\u001b[49m\u001b[38;5;241;43m=\u001b[39;49m\u001b[38;5;124;43m'\u001b[39;49m\u001b[38;5;124;43mSGD\u001b[39;49m\u001b[38;5;124;43m'\u001b[39;49m\u001b[43m,\u001b[49m\u001b[43m \u001b[49m\u001b[43mlearning_rate\u001b[49m\u001b[38;5;241;43m=\u001b[39;49m\u001b[38;5;241;43m1e-3\u001b[39;49m\u001b[43m,\u001b[49m\u001b[43m \u001b[49m\u001b[43ml2_wd\u001b[49m\u001b[38;5;241;43m=\u001b[39;49m\u001b[38;5;241;43m1e-4\u001b[39;49m\u001b[43m)\u001b[49m\n",
      "Cell \u001b[1;32mIn[60], line 30\u001b[0m, in \u001b[0;36mshort_hyperparam_run\u001b[1;34m(opt_str, learning_rate, epochs, input_momentum, rmsprop_dampening, l2_wd, use_scheduler)\u001b[0m\n\u001b[0;32m     28\u001b[0m \u001b[38;5;28;01mfor\u001b[39;00m epoch \u001b[38;5;129;01min\u001b[39;00m \u001b[38;5;28mrange\u001b[39m(epochs):\n\u001b[0;32m     29\u001b[0m     \u001b[38;5;28mprint\u001b[39m(\u001b[38;5;124mf\u001b[39m\u001b[38;5;124m\"\u001b[39m\u001b[38;5;124mEpoch \u001b[39m\u001b[38;5;132;01m{\u001b[39;00mepoch\u001b[38;5;241m+\u001b[39m\u001b[38;5;241m1\u001b[39m\u001b[38;5;132;01m}\u001b[39;00m\u001b[38;5;124m of \u001b[39m\u001b[38;5;132;01m{\u001b[39;00mepochs\u001b[38;5;132;01m}\u001b[39;00m\u001b[38;5;124m\"\u001b[39m)\n\u001b[1;32m---> 30\u001b[0m     train_loss, train_accuracy \u001b[38;5;241m=\u001b[39m \u001b[43mtrain\u001b[49m\u001b[43m(\u001b[49m\u001b[43mepoch\u001b[49m\u001b[43m)\u001b[49m\n\u001b[0;32m     31\u001b[0m     test_loss, test_accuracy \u001b[38;5;241m=\u001b[39m test(epoch)\n\u001b[0;32m     33\u001b[0m     train_loss_list\u001b[38;5;241m.\u001b[39mappend(train_loss)\n",
      "Cell \u001b[1;32mIn[61], line 18\u001b[0m, in \u001b[0;36mtrain\u001b[1;34m(epoch)\u001b[0m\n\u001b[0;32m     15\u001b[0m data, target \u001b[38;5;241m=\u001b[39m data\u001b[38;5;241m.\u001b[39mto(device), target\u001b[38;5;241m.\u001b[39mto(device)\n\u001b[0;32m     17\u001b[0m optimizer\u001b[38;5;241m.\u001b[39mzero_grad()\n\u001b[1;32m---> 18\u001b[0m logits, probas \u001b[38;5;241m=\u001b[39m \u001b[43mmodel\u001b[49m\u001b[43m(\u001b[49m\u001b[43mdata\u001b[49m\u001b[43m)\u001b[49m \u001b[38;5;66;03m# forward\u001b[39;00m\n\u001b[0;32m     20\u001b[0m \u001b[38;5;66;03m#[insert-code: finish training loop and logging metrics]\u001b[39;00m\n\u001b[0;32m     21\u001b[0m \u001b[38;5;66;03m# Calculate the loss\u001b[39;00m\n\u001b[0;32m     22\u001b[0m loss \u001b[38;5;241m=\u001b[39m criterion(logits, target)\n",
      "File \u001b[1;32m~\\miniconda3\\envs\\dl\\lib\\site-packages\\torch\\nn\\modules\\module.py:1501\u001b[0m, in \u001b[0;36mModule._call_impl\u001b[1;34m(self, *args, **kwargs)\u001b[0m\n\u001b[0;32m   1496\u001b[0m \u001b[38;5;66;03m# If we don't have any hooks, we want to skip the rest of the logic in\u001b[39;00m\n\u001b[0;32m   1497\u001b[0m \u001b[38;5;66;03m# this function, and just call forward.\u001b[39;00m\n\u001b[0;32m   1498\u001b[0m \u001b[38;5;28;01mif\u001b[39;00m \u001b[38;5;129;01mnot\u001b[39;00m (\u001b[38;5;28mself\u001b[39m\u001b[38;5;241m.\u001b[39m_backward_hooks \u001b[38;5;129;01mor\u001b[39;00m \u001b[38;5;28mself\u001b[39m\u001b[38;5;241m.\u001b[39m_backward_pre_hooks \u001b[38;5;129;01mor\u001b[39;00m \u001b[38;5;28mself\u001b[39m\u001b[38;5;241m.\u001b[39m_forward_hooks \u001b[38;5;129;01mor\u001b[39;00m \u001b[38;5;28mself\u001b[39m\u001b[38;5;241m.\u001b[39m_forward_pre_hooks\n\u001b[0;32m   1499\u001b[0m         \u001b[38;5;129;01mor\u001b[39;00m _global_backward_pre_hooks \u001b[38;5;129;01mor\u001b[39;00m _global_backward_hooks\n\u001b[0;32m   1500\u001b[0m         \u001b[38;5;129;01mor\u001b[39;00m _global_forward_hooks \u001b[38;5;129;01mor\u001b[39;00m _global_forward_pre_hooks):\n\u001b[1;32m-> 1501\u001b[0m     \u001b[38;5;28;01mreturn\u001b[39;00m forward_call(\u001b[38;5;241m*\u001b[39margs, \u001b[38;5;241m*\u001b[39m\u001b[38;5;241m*\u001b[39mkwargs)\n\u001b[0;32m   1502\u001b[0m \u001b[38;5;66;03m# Do not call functions when jit is used\u001b[39;00m\n\u001b[0;32m   1503\u001b[0m full_backward_hooks, non_full_backward_hooks \u001b[38;5;241m=\u001b[39m [], []\n",
      "Cell \u001b[1;32mIn[56], line 67\u001b[0m, in \u001b[0;36mLeNet5.forward\u001b[1;34m(self, x)\u001b[0m\n\u001b[0;32m     65\u001b[0m x \u001b[38;5;241m=\u001b[39m x\u001b[38;5;241m.\u001b[39mview(x\u001b[38;5;241m.\u001b[39msize(\u001b[38;5;241m0\u001b[39m), \u001b[38;5;241m-\u001b[39m\u001b[38;5;241m1\u001b[39m) \n\u001b[0;32m     66\u001b[0m \u001b[38;5;66;03m#x = [insert-code: send input through MLP layers]\u001b[39;00m\n\u001b[1;32m---> 67\u001b[0m logits \u001b[38;5;241m=\u001b[39m \u001b[38;5;28;43mself\u001b[39;49m\u001b[38;5;241;43m.\u001b[39;49m\u001b[43mclassifier\u001b[49m\u001b[43m(\u001b[49m\u001b[43mx\u001b[49m\u001b[43m)\u001b[49m\n\u001b[0;32m     68\u001b[0m \u001b[38;5;66;03m#Softmax layer (Softmax Regression + Softmax Nonlinearity)\u001b[39;00m\n\u001b[0;32m     69\u001b[0m probas \u001b[38;5;241m=\u001b[39m F\u001b[38;5;241m.\u001b[39msoftmax(logits, dim\u001b[38;5;241m=\u001b[39m\u001b[38;5;241m1\u001b[39m)\n",
      "File \u001b[1;32m~\\miniconda3\\envs\\dl\\lib\\site-packages\\torch\\nn\\modules\\module.py:1501\u001b[0m, in \u001b[0;36mModule._call_impl\u001b[1;34m(self, *args, **kwargs)\u001b[0m\n\u001b[0;32m   1496\u001b[0m \u001b[38;5;66;03m# If we don't have any hooks, we want to skip the rest of the logic in\u001b[39;00m\n\u001b[0;32m   1497\u001b[0m \u001b[38;5;66;03m# this function, and just call forward.\u001b[39;00m\n\u001b[0;32m   1498\u001b[0m \u001b[38;5;28;01mif\u001b[39;00m \u001b[38;5;129;01mnot\u001b[39;00m (\u001b[38;5;28mself\u001b[39m\u001b[38;5;241m.\u001b[39m_backward_hooks \u001b[38;5;129;01mor\u001b[39;00m \u001b[38;5;28mself\u001b[39m\u001b[38;5;241m.\u001b[39m_backward_pre_hooks \u001b[38;5;129;01mor\u001b[39;00m \u001b[38;5;28mself\u001b[39m\u001b[38;5;241m.\u001b[39m_forward_hooks \u001b[38;5;129;01mor\u001b[39;00m \u001b[38;5;28mself\u001b[39m\u001b[38;5;241m.\u001b[39m_forward_pre_hooks\n\u001b[0;32m   1499\u001b[0m         \u001b[38;5;129;01mor\u001b[39;00m _global_backward_pre_hooks \u001b[38;5;129;01mor\u001b[39;00m _global_backward_hooks\n\u001b[0;32m   1500\u001b[0m         \u001b[38;5;129;01mor\u001b[39;00m _global_forward_hooks \u001b[38;5;129;01mor\u001b[39;00m _global_forward_pre_hooks):\n\u001b[1;32m-> 1501\u001b[0m     \u001b[38;5;28;01mreturn\u001b[39;00m forward_call(\u001b[38;5;241m*\u001b[39margs, \u001b[38;5;241m*\u001b[39m\u001b[38;5;241m*\u001b[39mkwargs)\n\u001b[0;32m   1502\u001b[0m \u001b[38;5;66;03m# Do not call functions when jit is used\u001b[39;00m\n\u001b[0;32m   1503\u001b[0m full_backward_hooks, non_full_backward_hooks \u001b[38;5;241m=\u001b[39m [], []\n",
      "File \u001b[1;32m~\\miniconda3\\envs\\dl\\lib\\site-packages\\torch\\nn\\modules\\container.py:217\u001b[0m, in \u001b[0;36mSequential.forward\u001b[1;34m(self, input)\u001b[0m\n\u001b[0;32m    215\u001b[0m \u001b[38;5;28;01mdef\u001b[39;00m \u001b[38;5;21mforward\u001b[39m(\u001b[38;5;28mself\u001b[39m, \u001b[38;5;28minput\u001b[39m):\n\u001b[0;32m    216\u001b[0m     \u001b[38;5;28;01mfor\u001b[39;00m module \u001b[38;5;129;01min\u001b[39;00m \u001b[38;5;28mself\u001b[39m:\n\u001b[1;32m--> 217\u001b[0m         \u001b[38;5;28minput\u001b[39m \u001b[38;5;241m=\u001b[39m \u001b[43mmodule\u001b[49m\u001b[43m(\u001b[49m\u001b[38;5;28;43minput\u001b[39;49m\u001b[43m)\u001b[49m\n\u001b[0;32m    218\u001b[0m     \u001b[38;5;28;01mreturn\u001b[39;00m \u001b[38;5;28minput\u001b[39m\n",
      "File \u001b[1;32m~\\miniconda3\\envs\\dl\\lib\\site-packages\\torch\\nn\\modules\\module.py:1501\u001b[0m, in \u001b[0;36mModule._call_impl\u001b[1;34m(self, *args, **kwargs)\u001b[0m\n\u001b[0;32m   1496\u001b[0m \u001b[38;5;66;03m# If we don't have any hooks, we want to skip the rest of the logic in\u001b[39;00m\n\u001b[0;32m   1497\u001b[0m \u001b[38;5;66;03m# this function, and just call forward.\u001b[39;00m\n\u001b[0;32m   1498\u001b[0m \u001b[38;5;28;01mif\u001b[39;00m \u001b[38;5;129;01mnot\u001b[39;00m (\u001b[38;5;28mself\u001b[39m\u001b[38;5;241m.\u001b[39m_backward_hooks \u001b[38;5;129;01mor\u001b[39;00m \u001b[38;5;28mself\u001b[39m\u001b[38;5;241m.\u001b[39m_backward_pre_hooks \u001b[38;5;129;01mor\u001b[39;00m \u001b[38;5;28mself\u001b[39m\u001b[38;5;241m.\u001b[39m_forward_hooks \u001b[38;5;129;01mor\u001b[39;00m \u001b[38;5;28mself\u001b[39m\u001b[38;5;241m.\u001b[39m_forward_pre_hooks\n\u001b[0;32m   1499\u001b[0m         \u001b[38;5;129;01mor\u001b[39;00m _global_backward_pre_hooks \u001b[38;5;129;01mor\u001b[39;00m _global_backward_hooks\n\u001b[0;32m   1500\u001b[0m         \u001b[38;5;129;01mor\u001b[39;00m _global_forward_hooks \u001b[38;5;129;01mor\u001b[39;00m _global_forward_pre_hooks):\n\u001b[1;32m-> 1501\u001b[0m     \u001b[38;5;28;01mreturn\u001b[39;00m forward_call(\u001b[38;5;241m*\u001b[39margs, \u001b[38;5;241m*\u001b[39m\u001b[38;5;241m*\u001b[39mkwargs)\n\u001b[0;32m   1502\u001b[0m \u001b[38;5;66;03m# Do not call functions when jit is used\u001b[39;00m\n\u001b[0;32m   1503\u001b[0m full_backward_hooks, non_full_backward_hooks \u001b[38;5;241m=\u001b[39m [], []\n",
      "File \u001b[1;32m~\\miniconda3\\envs\\dl\\lib\\site-packages\\torch\\nn\\modules\\linear.py:114\u001b[0m, in \u001b[0;36mLinear.forward\u001b[1;34m(self, input)\u001b[0m\n\u001b[0;32m    113\u001b[0m \u001b[38;5;28;01mdef\u001b[39;00m \u001b[38;5;21mforward\u001b[39m(\u001b[38;5;28mself\u001b[39m, \u001b[38;5;28minput\u001b[39m: Tensor) \u001b[38;5;241m-\u001b[39m\u001b[38;5;241m>\u001b[39m Tensor:\n\u001b[1;32m--> 114\u001b[0m     \u001b[38;5;28;01mreturn\u001b[39;00m \u001b[43mF\u001b[49m\u001b[38;5;241;43m.\u001b[39;49m\u001b[43mlinear\u001b[49m\u001b[43m(\u001b[49m\u001b[38;5;28;43minput\u001b[39;49m\u001b[43m,\u001b[49m\u001b[43m \u001b[49m\u001b[38;5;28;43mself\u001b[39;49m\u001b[38;5;241;43m.\u001b[39;49m\u001b[43mweight\u001b[49m\u001b[43m,\u001b[49m\u001b[43m \u001b[49m\u001b[38;5;28;43mself\u001b[39;49m\u001b[38;5;241;43m.\u001b[39;49m\u001b[43mbias\u001b[49m\u001b[43m)\u001b[49m\n",
      "\u001b[1;31mRuntimeError\u001b[0m: mat1 and mat2 shapes cannot be multiplied (64x3136 and 4096x1024)"
     ]
    }
   ],
   "source": [
    "short_hyperparam_run(opt_str='SGD', learning_rate=1e-3, l2_wd=1e-4)"
   ]
  },
  {
   "cell_type": "code",
   "execution_count": 63,
   "id": "270f3c9f",
   "metadata": {},
   "outputs": [
    {
     "name": "stdout",
     "output_type": "stream",
     "text": [
      "ADAGRAD does not use momentum as a parameter\n",
      "\n",
      "Epoch 1 of 3\n"
     ]
    },
    {
     "ename": "RuntimeError",
     "evalue": "mat1 and mat2 shapes cannot be multiplied (64x3136 and 4096x1024)",
     "output_type": "error",
     "traceback": [
      "\u001b[1;31m---------------------------------------------------------------------------\u001b[0m",
      "\u001b[1;31mRuntimeError\u001b[0m                              Traceback (most recent call last)",
      "Cell \u001b[1;32mIn[63], line 1\u001b[0m\n\u001b[1;32m----> 1\u001b[0m \u001b[43mshort_hyperparam_run\u001b[49m\u001b[43m(\u001b[49m\u001b[43mopt_str\u001b[49m\u001b[38;5;241;43m=\u001b[39;49m\u001b[38;5;124;43m'\u001b[39;49m\u001b[38;5;124;43mADAGRAD\u001b[39;49m\u001b[38;5;124;43m'\u001b[39;49m\u001b[43m,\u001b[49m\u001b[43m \u001b[49m\u001b[43mlearning_rate\u001b[49m\u001b[38;5;241;43m=\u001b[39;49m\u001b[38;5;241;43m1e-3\u001b[39;49m\u001b[43m,\u001b[49m\u001b[43m \u001b[49m\u001b[43ml2_wd\u001b[49m\u001b[38;5;241;43m=\u001b[39;49m\u001b[38;5;241;43m1e-4\u001b[39;49m\u001b[43m)\u001b[49m\n",
      "Cell \u001b[1;32mIn[60], line 30\u001b[0m, in \u001b[0;36mshort_hyperparam_run\u001b[1;34m(opt_str, learning_rate, epochs, input_momentum, rmsprop_dampening, l2_wd, use_scheduler)\u001b[0m\n\u001b[0;32m     28\u001b[0m \u001b[38;5;28;01mfor\u001b[39;00m epoch \u001b[38;5;129;01min\u001b[39;00m \u001b[38;5;28mrange\u001b[39m(epochs):\n\u001b[0;32m     29\u001b[0m     \u001b[38;5;28mprint\u001b[39m(\u001b[38;5;124mf\u001b[39m\u001b[38;5;124m\"\u001b[39m\u001b[38;5;124mEpoch \u001b[39m\u001b[38;5;132;01m{\u001b[39;00mepoch\u001b[38;5;241m+\u001b[39m\u001b[38;5;241m1\u001b[39m\u001b[38;5;132;01m}\u001b[39;00m\u001b[38;5;124m of \u001b[39m\u001b[38;5;132;01m{\u001b[39;00mepochs\u001b[38;5;132;01m}\u001b[39;00m\u001b[38;5;124m\"\u001b[39m)\n\u001b[1;32m---> 30\u001b[0m     train_loss, train_accuracy \u001b[38;5;241m=\u001b[39m \u001b[43mtrain\u001b[49m\u001b[43m(\u001b[49m\u001b[43mepoch\u001b[49m\u001b[43m)\u001b[49m\n\u001b[0;32m     31\u001b[0m     test_loss, test_accuracy \u001b[38;5;241m=\u001b[39m test(epoch)\n\u001b[0;32m     33\u001b[0m     train_loss_list\u001b[38;5;241m.\u001b[39mappend(train_loss)\n",
      "Cell \u001b[1;32mIn[61], line 18\u001b[0m, in \u001b[0;36mtrain\u001b[1;34m(epoch)\u001b[0m\n\u001b[0;32m     15\u001b[0m data, target \u001b[38;5;241m=\u001b[39m data\u001b[38;5;241m.\u001b[39mto(device), target\u001b[38;5;241m.\u001b[39mto(device)\n\u001b[0;32m     17\u001b[0m optimizer\u001b[38;5;241m.\u001b[39mzero_grad()\n\u001b[1;32m---> 18\u001b[0m logits, probas \u001b[38;5;241m=\u001b[39m \u001b[43mmodel\u001b[49m\u001b[43m(\u001b[49m\u001b[43mdata\u001b[49m\u001b[43m)\u001b[49m \u001b[38;5;66;03m# forward\u001b[39;00m\n\u001b[0;32m     20\u001b[0m \u001b[38;5;66;03m#[insert-code: finish training loop and logging metrics]\u001b[39;00m\n\u001b[0;32m     21\u001b[0m \u001b[38;5;66;03m# Calculate the loss\u001b[39;00m\n\u001b[0;32m     22\u001b[0m loss \u001b[38;5;241m=\u001b[39m criterion(logits, target)\n",
      "File \u001b[1;32m~\\miniconda3\\envs\\dl\\lib\\site-packages\\torch\\nn\\modules\\module.py:1501\u001b[0m, in \u001b[0;36mModule._call_impl\u001b[1;34m(self, *args, **kwargs)\u001b[0m\n\u001b[0;32m   1496\u001b[0m \u001b[38;5;66;03m# If we don't have any hooks, we want to skip the rest of the logic in\u001b[39;00m\n\u001b[0;32m   1497\u001b[0m \u001b[38;5;66;03m# this function, and just call forward.\u001b[39;00m\n\u001b[0;32m   1498\u001b[0m \u001b[38;5;28;01mif\u001b[39;00m \u001b[38;5;129;01mnot\u001b[39;00m (\u001b[38;5;28mself\u001b[39m\u001b[38;5;241m.\u001b[39m_backward_hooks \u001b[38;5;129;01mor\u001b[39;00m \u001b[38;5;28mself\u001b[39m\u001b[38;5;241m.\u001b[39m_backward_pre_hooks \u001b[38;5;129;01mor\u001b[39;00m \u001b[38;5;28mself\u001b[39m\u001b[38;5;241m.\u001b[39m_forward_hooks \u001b[38;5;129;01mor\u001b[39;00m \u001b[38;5;28mself\u001b[39m\u001b[38;5;241m.\u001b[39m_forward_pre_hooks\n\u001b[0;32m   1499\u001b[0m         \u001b[38;5;129;01mor\u001b[39;00m _global_backward_pre_hooks \u001b[38;5;129;01mor\u001b[39;00m _global_backward_hooks\n\u001b[0;32m   1500\u001b[0m         \u001b[38;5;129;01mor\u001b[39;00m _global_forward_hooks \u001b[38;5;129;01mor\u001b[39;00m _global_forward_pre_hooks):\n\u001b[1;32m-> 1501\u001b[0m     \u001b[38;5;28;01mreturn\u001b[39;00m forward_call(\u001b[38;5;241m*\u001b[39margs, \u001b[38;5;241m*\u001b[39m\u001b[38;5;241m*\u001b[39mkwargs)\n\u001b[0;32m   1502\u001b[0m \u001b[38;5;66;03m# Do not call functions when jit is used\u001b[39;00m\n\u001b[0;32m   1503\u001b[0m full_backward_hooks, non_full_backward_hooks \u001b[38;5;241m=\u001b[39m [], []\n",
      "Cell \u001b[1;32mIn[56], line 67\u001b[0m, in \u001b[0;36mLeNet5.forward\u001b[1;34m(self, x)\u001b[0m\n\u001b[0;32m     65\u001b[0m x \u001b[38;5;241m=\u001b[39m x\u001b[38;5;241m.\u001b[39mview(x\u001b[38;5;241m.\u001b[39msize(\u001b[38;5;241m0\u001b[39m), \u001b[38;5;241m-\u001b[39m\u001b[38;5;241m1\u001b[39m) \n\u001b[0;32m     66\u001b[0m \u001b[38;5;66;03m#x = [insert-code: send input through MLP layers]\u001b[39;00m\n\u001b[1;32m---> 67\u001b[0m logits \u001b[38;5;241m=\u001b[39m \u001b[38;5;28;43mself\u001b[39;49m\u001b[38;5;241;43m.\u001b[39;49m\u001b[43mclassifier\u001b[49m\u001b[43m(\u001b[49m\u001b[43mx\u001b[49m\u001b[43m)\u001b[49m\n\u001b[0;32m     68\u001b[0m \u001b[38;5;66;03m#Softmax layer (Softmax Regression + Softmax Nonlinearity)\u001b[39;00m\n\u001b[0;32m     69\u001b[0m probas \u001b[38;5;241m=\u001b[39m F\u001b[38;5;241m.\u001b[39msoftmax(logits, dim\u001b[38;5;241m=\u001b[39m\u001b[38;5;241m1\u001b[39m)\n",
      "File \u001b[1;32m~\\miniconda3\\envs\\dl\\lib\\site-packages\\torch\\nn\\modules\\module.py:1501\u001b[0m, in \u001b[0;36mModule._call_impl\u001b[1;34m(self, *args, **kwargs)\u001b[0m\n\u001b[0;32m   1496\u001b[0m \u001b[38;5;66;03m# If we don't have any hooks, we want to skip the rest of the logic in\u001b[39;00m\n\u001b[0;32m   1497\u001b[0m \u001b[38;5;66;03m# this function, and just call forward.\u001b[39;00m\n\u001b[0;32m   1498\u001b[0m \u001b[38;5;28;01mif\u001b[39;00m \u001b[38;5;129;01mnot\u001b[39;00m (\u001b[38;5;28mself\u001b[39m\u001b[38;5;241m.\u001b[39m_backward_hooks \u001b[38;5;129;01mor\u001b[39;00m \u001b[38;5;28mself\u001b[39m\u001b[38;5;241m.\u001b[39m_backward_pre_hooks \u001b[38;5;129;01mor\u001b[39;00m \u001b[38;5;28mself\u001b[39m\u001b[38;5;241m.\u001b[39m_forward_hooks \u001b[38;5;129;01mor\u001b[39;00m \u001b[38;5;28mself\u001b[39m\u001b[38;5;241m.\u001b[39m_forward_pre_hooks\n\u001b[0;32m   1499\u001b[0m         \u001b[38;5;129;01mor\u001b[39;00m _global_backward_pre_hooks \u001b[38;5;129;01mor\u001b[39;00m _global_backward_hooks\n\u001b[0;32m   1500\u001b[0m         \u001b[38;5;129;01mor\u001b[39;00m _global_forward_hooks \u001b[38;5;129;01mor\u001b[39;00m _global_forward_pre_hooks):\n\u001b[1;32m-> 1501\u001b[0m     \u001b[38;5;28;01mreturn\u001b[39;00m forward_call(\u001b[38;5;241m*\u001b[39margs, \u001b[38;5;241m*\u001b[39m\u001b[38;5;241m*\u001b[39mkwargs)\n\u001b[0;32m   1502\u001b[0m \u001b[38;5;66;03m# Do not call functions when jit is used\u001b[39;00m\n\u001b[0;32m   1503\u001b[0m full_backward_hooks, non_full_backward_hooks \u001b[38;5;241m=\u001b[39m [], []\n",
      "File \u001b[1;32m~\\miniconda3\\envs\\dl\\lib\\site-packages\\torch\\nn\\modules\\container.py:217\u001b[0m, in \u001b[0;36mSequential.forward\u001b[1;34m(self, input)\u001b[0m\n\u001b[0;32m    215\u001b[0m \u001b[38;5;28;01mdef\u001b[39;00m \u001b[38;5;21mforward\u001b[39m(\u001b[38;5;28mself\u001b[39m, \u001b[38;5;28minput\u001b[39m):\n\u001b[0;32m    216\u001b[0m     \u001b[38;5;28;01mfor\u001b[39;00m module \u001b[38;5;129;01min\u001b[39;00m \u001b[38;5;28mself\u001b[39m:\n\u001b[1;32m--> 217\u001b[0m         \u001b[38;5;28minput\u001b[39m \u001b[38;5;241m=\u001b[39m \u001b[43mmodule\u001b[49m\u001b[43m(\u001b[49m\u001b[38;5;28;43minput\u001b[39;49m\u001b[43m)\u001b[49m\n\u001b[0;32m    218\u001b[0m     \u001b[38;5;28;01mreturn\u001b[39;00m \u001b[38;5;28minput\u001b[39m\n",
      "File \u001b[1;32m~\\miniconda3\\envs\\dl\\lib\\site-packages\\torch\\nn\\modules\\module.py:1501\u001b[0m, in \u001b[0;36mModule._call_impl\u001b[1;34m(self, *args, **kwargs)\u001b[0m\n\u001b[0;32m   1496\u001b[0m \u001b[38;5;66;03m# If we don't have any hooks, we want to skip the rest of the logic in\u001b[39;00m\n\u001b[0;32m   1497\u001b[0m \u001b[38;5;66;03m# this function, and just call forward.\u001b[39;00m\n\u001b[0;32m   1498\u001b[0m \u001b[38;5;28;01mif\u001b[39;00m \u001b[38;5;129;01mnot\u001b[39;00m (\u001b[38;5;28mself\u001b[39m\u001b[38;5;241m.\u001b[39m_backward_hooks \u001b[38;5;129;01mor\u001b[39;00m \u001b[38;5;28mself\u001b[39m\u001b[38;5;241m.\u001b[39m_backward_pre_hooks \u001b[38;5;129;01mor\u001b[39;00m \u001b[38;5;28mself\u001b[39m\u001b[38;5;241m.\u001b[39m_forward_hooks \u001b[38;5;129;01mor\u001b[39;00m \u001b[38;5;28mself\u001b[39m\u001b[38;5;241m.\u001b[39m_forward_pre_hooks\n\u001b[0;32m   1499\u001b[0m         \u001b[38;5;129;01mor\u001b[39;00m _global_backward_pre_hooks \u001b[38;5;129;01mor\u001b[39;00m _global_backward_hooks\n\u001b[0;32m   1500\u001b[0m         \u001b[38;5;129;01mor\u001b[39;00m _global_forward_hooks \u001b[38;5;129;01mor\u001b[39;00m _global_forward_pre_hooks):\n\u001b[1;32m-> 1501\u001b[0m     \u001b[38;5;28;01mreturn\u001b[39;00m forward_call(\u001b[38;5;241m*\u001b[39margs, \u001b[38;5;241m*\u001b[39m\u001b[38;5;241m*\u001b[39mkwargs)\n\u001b[0;32m   1502\u001b[0m \u001b[38;5;66;03m# Do not call functions when jit is used\u001b[39;00m\n\u001b[0;32m   1503\u001b[0m full_backward_hooks, non_full_backward_hooks \u001b[38;5;241m=\u001b[39m [], []\n",
      "File \u001b[1;32m~\\miniconda3\\envs\\dl\\lib\\site-packages\\torch\\nn\\modules\\linear.py:114\u001b[0m, in \u001b[0;36mLinear.forward\u001b[1;34m(self, input)\u001b[0m\n\u001b[0;32m    113\u001b[0m \u001b[38;5;28;01mdef\u001b[39;00m \u001b[38;5;21mforward\u001b[39m(\u001b[38;5;28mself\u001b[39m, \u001b[38;5;28minput\u001b[39m: Tensor) \u001b[38;5;241m-\u001b[39m\u001b[38;5;241m>\u001b[39m Tensor:\n\u001b[1;32m--> 114\u001b[0m     \u001b[38;5;28;01mreturn\u001b[39;00m \u001b[43mF\u001b[49m\u001b[38;5;241;43m.\u001b[39;49m\u001b[43mlinear\u001b[49m\u001b[43m(\u001b[49m\u001b[38;5;28;43minput\u001b[39;49m\u001b[43m,\u001b[49m\u001b[43m \u001b[49m\u001b[38;5;28;43mself\u001b[39;49m\u001b[38;5;241;43m.\u001b[39;49m\u001b[43mweight\u001b[49m\u001b[43m,\u001b[49m\u001b[43m \u001b[49m\u001b[38;5;28;43mself\u001b[39;49m\u001b[38;5;241;43m.\u001b[39;49m\u001b[43mbias\u001b[49m\u001b[43m)\u001b[49m\n",
      "\u001b[1;31mRuntimeError\u001b[0m: mat1 and mat2 shapes cannot be multiplied (64x3136 and 4096x1024)"
     ]
    }
   ],
   "source": [
    "short_hyperparam_run(opt_str='ADAGRAD', learning_rate=1e-3, l2_wd=1e-4)"
   ]
  },
  {
   "cell_type": "code",
   "execution_count": 71,
   "id": "70e3061d",
   "metadata": {},
   "outputs": [
    {
     "name": "stdout",
     "output_type": "stream",
     "text": [
      "Epoch 1 of 3\n"
     ]
    },
    {
     "ename": "RuntimeError",
     "evalue": "mat1 and mat2 shapes cannot be multiplied (64x3136 and 4096x1024)",
     "output_type": "error",
     "traceback": [
      "\u001b[1;31m---------------------------------------------------------------------------\u001b[0m",
      "\u001b[1;31mRuntimeError\u001b[0m                              Traceback (most recent call last)",
      "Cell \u001b[1;32mIn[71], line 1\u001b[0m\n\u001b[1;32m----> 1\u001b[0m \u001b[43mshort_hyperparam_run\u001b[49m\u001b[43m(\u001b[49m\u001b[43mopt_str\u001b[49m\u001b[38;5;241;43m=\u001b[39;49m\u001b[38;5;124;43m'\u001b[39;49m\u001b[38;5;124;43mRMSPROP\u001b[39;49m\u001b[38;5;124;43m'\u001b[39;49m\u001b[43m,\u001b[49m\u001b[43m \u001b[49m\u001b[43mlearning_rate\u001b[49m\u001b[38;5;241;43m=\u001b[39;49m\u001b[38;5;241;43m1e-3\u001b[39;49m\u001b[43m,\u001b[49m\u001b[43m \u001b[49m\u001b[43ml2_wd\u001b[49m\u001b[38;5;241;43m=\u001b[39;49m\u001b[38;5;241;43m1e-4\u001b[39;49m\u001b[43m)\u001b[49m\n",
      "Cell \u001b[1;32mIn[60], line 30\u001b[0m, in \u001b[0;36mshort_hyperparam_run\u001b[1;34m(opt_str, learning_rate, epochs, input_momentum, rmsprop_dampening, l2_wd, use_scheduler)\u001b[0m\n\u001b[0;32m     28\u001b[0m \u001b[38;5;28;01mfor\u001b[39;00m epoch \u001b[38;5;129;01min\u001b[39;00m \u001b[38;5;28mrange\u001b[39m(epochs):\n\u001b[0;32m     29\u001b[0m     \u001b[38;5;28mprint\u001b[39m(\u001b[38;5;124mf\u001b[39m\u001b[38;5;124m\"\u001b[39m\u001b[38;5;124mEpoch \u001b[39m\u001b[38;5;132;01m{\u001b[39;00mepoch\u001b[38;5;241m+\u001b[39m\u001b[38;5;241m1\u001b[39m\u001b[38;5;132;01m}\u001b[39;00m\u001b[38;5;124m of \u001b[39m\u001b[38;5;132;01m{\u001b[39;00mepochs\u001b[38;5;132;01m}\u001b[39;00m\u001b[38;5;124m\"\u001b[39m)\n\u001b[1;32m---> 30\u001b[0m     train_loss, train_accuracy \u001b[38;5;241m=\u001b[39m \u001b[43mtrain\u001b[49m\u001b[43m(\u001b[49m\u001b[43mepoch\u001b[49m\u001b[43m)\u001b[49m\n\u001b[0;32m     31\u001b[0m     test_loss, test_accuracy \u001b[38;5;241m=\u001b[39m test(epoch)\n\u001b[0;32m     33\u001b[0m     train_loss_list\u001b[38;5;241m.\u001b[39mappend(train_loss)\n",
      "Cell \u001b[1;32mIn[70], line 18\u001b[0m, in \u001b[0;36mtrain\u001b[1;34m(epoch)\u001b[0m\n\u001b[0;32m     15\u001b[0m data, target \u001b[38;5;241m=\u001b[39m data\u001b[38;5;241m.\u001b[39mto(device), target\u001b[38;5;241m.\u001b[39mto(device)\n\u001b[0;32m     17\u001b[0m optimizer\u001b[38;5;241m.\u001b[39mzero_grad()\n\u001b[1;32m---> 18\u001b[0m logits, probas \u001b[38;5;241m=\u001b[39m \u001b[43mmodel\u001b[49m\u001b[43m(\u001b[49m\u001b[43mdata\u001b[49m\u001b[43m)\u001b[49m \u001b[38;5;66;03m# forward\u001b[39;00m\n\u001b[0;32m     20\u001b[0m \u001b[38;5;66;03m#[insert-code: finish training loop and logging metrics]\u001b[39;00m\n\u001b[0;32m     21\u001b[0m \u001b[38;5;66;03m# Calculate the loss\u001b[39;00m\n\u001b[0;32m     22\u001b[0m loss \u001b[38;5;241m=\u001b[39m criterion(logits, target)\n",
      "File \u001b[1;32m~\\miniconda3\\envs\\dl\\lib\\site-packages\\torch\\nn\\modules\\module.py:1501\u001b[0m, in \u001b[0;36mModule._call_impl\u001b[1;34m(self, *args, **kwargs)\u001b[0m\n\u001b[0;32m   1496\u001b[0m \u001b[38;5;66;03m# If we don't have any hooks, we want to skip the rest of the logic in\u001b[39;00m\n\u001b[0;32m   1497\u001b[0m \u001b[38;5;66;03m# this function, and just call forward.\u001b[39;00m\n\u001b[0;32m   1498\u001b[0m \u001b[38;5;28;01mif\u001b[39;00m \u001b[38;5;129;01mnot\u001b[39;00m (\u001b[38;5;28mself\u001b[39m\u001b[38;5;241m.\u001b[39m_backward_hooks \u001b[38;5;129;01mor\u001b[39;00m \u001b[38;5;28mself\u001b[39m\u001b[38;5;241m.\u001b[39m_backward_pre_hooks \u001b[38;5;129;01mor\u001b[39;00m \u001b[38;5;28mself\u001b[39m\u001b[38;5;241m.\u001b[39m_forward_hooks \u001b[38;5;129;01mor\u001b[39;00m \u001b[38;5;28mself\u001b[39m\u001b[38;5;241m.\u001b[39m_forward_pre_hooks\n\u001b[0;32m   1499\u001b[0m         \u001b[38;5;129;01mor\u001b[39;00m _global_backward_pre_hooks \u001b[38;5;129;01mor\u001b[39;00m _global_backward_hooks\n\u001b[0;32m   1500\u001b[0m         \u001b[38;5;129;01mor\u001b[39;00m _global_forward_hooks \u001b[38;5;129;01mor\u001b[39;00m _global_forward_pre_hooks):\n\u001b[1;32m-> 1501\u001b[0m     \u001b[38;5;28;01mreturn\u001b[39;00m forward_call(\u001b[38;5;241m*\u001b[39margs, \u001b[38;5;241m*\u001b[39m\u001b[38;5;241m*\u001b[39mkwargs)\n\u001b[0;32m   1502\u001b[0m \u001b[38;5;66;03m# Do not call functions when jit is used\u001b[39;00m\n\u001b[0;32m   1503\u001b[0m full_backward_hooks, non_full_backward_hooks \u001b[38;5;241m=\u001b[39m [], []\n",
      "Cell \u001b[1;32mIn[68], line 67\u001b[0m, in \u001b[0;36mLeNet5.forward\u001b[1;34m(self, x)\u001b[0m\n\u001b[0;32m     65\u001b[0m x \u001b[38;5;241m=\u001b[39m x\u001b[38;5;241m.\u001b[39mview(x\u001b[38;5;241m.\u001b[39msize(\u001b[38;5;241m0\u001b[39m), \u001b[38;5;241m-\u001b[39m\u001b[38;5;241m1\u001b[39m) \n\u001b[0;32m     66\u001b[0m \u001b[38;5;66;03m#x = [insert-code: send input through MLP layers]\u001b[39;00m\n\u001b[1;32m---> 67\u001b[0m logits \u001b[38;5;241m=\u001b[39m \u001b[38;5;28;43mself\u001b[39;49m\u001b[38;5;241;43m.\u001b[39;49m\u001b[43mclassifier\u001b[49m\u001b[43m(\u001b[49m\u001b[43mx\u001b[49m\u001b[43m)\u001b[49m\n\u001b[0;32m     68\u001b[0m \u001b[38;5;66;03m#Softmax layer (Softmax Regression + Softmax Nonlinearity)\u001b[39;00m\n\u001b[0;32m     69\u001b[0m probas \u001b[38;5;241m=\u001b[39m F\u001b[38;5;241m.\u001b[39msoftmax(logits, dim\u001b[38;5;241m=\u001b[39m\u001b[38;5;241m1\u001b[39m)\n",
      "File \u001b[1;32m~\\miniconda3\\envs\\dl\\lib\\site-packages\\torch\\nn\\modules\\module.py:1501\u001b[0m, in \u001b[0;36mModule._call_impl\u001b[1;34m(self, *args, **kwargs)\u001b[0m\n\u001b[0;32m   1496\u001b[0m \u001b[38;5;66;03m# If we don't have any hooks, we want to skip the rest of the logic in\u001b[39;00m\n\u001b[0;32m   1497\u001b[0m \u001b[38;5;66;03m# this function, and just call forward.\u001b[39;00m\n\u001b[0;32m   1498\u001b[0m \u001b[38;5;28;01mif\u001b[39;00m \u001b[38;5;129;01mnot\u001b[39;00m (\u001b[38;5;28mself\u001b[39m\u001b[38;5;241m.\u001b[39m_backward_hooks \u001b[38;5;129;01mor\u001b[39;00m \u001b[38;5;28mself\u001b[39m\u001b[38;5;241m.\u001b[39m_backward_pre_hooks \u001b[38;5;129;01mor\u001b[39;00m \u001b[38;5;28mself\u001b[39m\u001b[38;5;241m.\u001b[39m_forward_hooks \u001b[38;5;129;01mor\u001b[39;00m \u001b[38;5;28mself\u001b[39m\u001b[38;5;241m.\u001b[39m_forward_pre_hooks\n\u001b[0;32m   1499\u001b[0m         \u001b[38;5;129;01mor\u001b[39;00m _global_backward_pre_hooks \u001b[38;5;129;01mor\u001b[39;00m _global_backward_hooks\n\u001b[0;32m   1500\u001b[0m         \u001b[38;5;129;01mor\u001b[39;00m _global_forward_hooks \u001b[38;5;129;01mor\u001b[39;00m _global_forward_pre_hooks):\n\u001b[1;32m-> 1501\u001b[0m     \u001b[38;5;28;01mreturn\u001b[39;00m forward_call(\u001b[38;5;241m*\u001b[39margs, \u001b[38;5;241m*\u001b[39m\u001b[38;5;241m*\u001b[39mkwargs)\n\u001b[0;32m   1502\u001b[0m \u001b[38;5;66;03m# Do not call functions when jit is used\u001b[39;00m\n\u001b[0;32m   1503\u001b[0m full_backward_hooks, non_full_backward_hooks \u001b[38;5;241m=\u001b[39m [], []\n",
      "File \u001b[1;32m~\\miniconda3\\envs\\dl\\lib\\site-packages\\torch\\nn\\modules\\container.py:217\u001b[0m, in \u001b[0;36mSequential.forward\u001b[1;34m(self, input)\u001b[0m\n\u001b[0;32m    215\u001b[0m \u001b[38;5;28;01mdef\u001b[39;00m \u001b[38;5;21mforward\u001b[39m(\u001b[38;5;28mself\u001b[39m, \u001b[38;5;28minput\u001b[39m):\n\u001b[0;32m    216\u001b[0m     \u001b[38;5;28;01mfor\u001b[39;00m module \u001b[38;5;129;01min\u001b[39;00m \u001b[38;5;28mself\u001b[39m:\n\u001b[1;32m--> 217\u001b[0m         \u001b[38;5;28minput\u001b[39m \u001b[38;5;241m=\u001b[39m \u001b[43mmodule\u001b[49m\u001b[43m(\u001b[49m\u001b[38;5;28;43minput\u001b[39;49m\u001b[43m)\u001b[49m\n\u001b[0;32m    218\u001b[0m     \u001b[38;5;28;01mreturn\u001b[39;00m \u001b[38;5;28minput\u001b[39m\n",
      "File \u001b[1;32m~\\miniconda3\\envs\\dl\\lib\\site-packages\\torch\\nn\\modules\\module.py:1501\u001b[0m, in \u001b[0;36mModule._call_impl\u001b[1;34m(self, *args, **kwargs)\u001b[0m\n\u001b[0;32m   1496\u001b[0m \u001b[38;5;66;03m# If we don't have any hooks, we want to skip the rest of the logic in\u001b[39;00m\n\u001b[0;32m   1497\u001b[0m \u001b[38;5;66;03m# this function, and just call forward.\u001b[39;00m\n\u001b[0;32m   1498\u001b[0m \u001b[38;5;28;01mif\u001b[39;00m \u001b[38;5;129;01mnot\u001b[39;00m (\u001b[38;5;28mself\u001b[39m\u001b[38;5;241m.\u001b[39m_backward_hooks \u001b[38;5;129;01mor\u001b[39;00m \u001b[38;5;28mself\u001b[39m\u001b[38;5;241m.\u001b[39m_backward_pre_hooks \u001b[38;5;129;01mor\u001b[39;00m \u001b[38;5;28mself\u001b[39m\u001b[38;5;241m.\u001b[39m_forward_hooks \u001b[38;5;129;01mor\u001b[39;00m \u001b[38;5;28mself\u001b[39m\u001b[38;5;241m.\u001b[39m_forward_pre_hooks\n\u001b[0;32m   1499\u001b[0m         \u001b[38;5;129;01mor\u001b[39;00m _global_backward_pre_hooks \u001b[38;5;129;01mor\u001b[39;00m _global_backward_hooks\n\u001b[0;32m   1500\u001b[0m         \u001b[38;5;129;01mor\u001b[39;00m _global_forward_hooks \u001b[38;5;129;01mor\u001b[39;00m _global_forward_pre_hooks):\n\u001b[1;32m-> 1501\u001b[0m     \u001b[38;5;28;01mreturn\u001b[39;00m forward_call(\u001b[38;5;241m*\u001b[39margs, \u001b[38;5;241m*\u001b[39m\u001b[38;5;241m*\u001b[39mkwargs)\n\u001b[0;32m   1502\u001b[0m \u001b[38;5;66;03m# Do not call functions when jit is used\u001b[39;00m\n\u001b[0;32m   1503\u001b[0m full_backward_hooks, non_full_backward_hooks \u001b[38;5;241m=\u001b[39m [], []\n",
      "File \u001b[1;32m~\\miniconda3\\envs\\dl\\lib\\site-packages\\torch\\nn\\modules\\linear.py:114\u001b[0m, in \u001b[0;36mLinear.forward\u001b[1;34m(self, input)\u001b[0m\n\u001b[0;32m    113\u001b[0m \u001b[38;5;28;01mdef\u001b[39;00m \u001b[38;5;21mforward\u001b[39m(\u001b[38;5;28mself\u001b[39m, \u001b[38;5;28minput\u001b[39m: Tensor) \u001b[38;5;241m-\u001b[39m\u001b[38;5;241m>\u001b[39m Tensor:\n\u001b[1;32m--> 114\u001b[0m     \u001b[38;5;28;01mreturn\u001b[39;00m \u001b[43mF\u001b[49m\u001b[38;5;241;43m.\u001b[39;49m\u001b[43mlinear\u001b[49m\u001b[43m(\u001b[49m\u001b[38;5;28;43minput\u001b[39;49m\u001b[43m,\u001b[49m\u001b[43m \u001b[49m\u001b[38;5;28;43mself\u001b[39;49m\u001b[38;5;241;43m.\u001b[39;49m\u001b[43mweight\u001b[49m\u001b[43m,\u001b[49m\u001b[43m \u001b[49m\u001b[38;5;28;43mself\u001b[39;49m\u001b[38;5;241;43m.\u001b[39;49m\u001b[43mbias\u001b[49m\u001b[43m)\u001b[49m\n",
      "\u001b[1;31mRuntimeError\u001b[0m: mat1 and mat2 shapes cannot be multiplied (64x3136 and 4096x1024)"
     ]
    }
   ],
   "source": [
    "short_hyperparam_run(opt_str='RMSPROP', learning_rate=1e-3, l2_wd=1e-4)"
   ]
  },
  {
   "cell_type": "markdown",
   "id": "1a920ac9",
   "metadata": {},
   "source": [
    "## 1c) Visualize the Trained Network: \n",
    "> Visualize the first convolutional layer’s weights. They should look like Gabor filters (edge detectors)."
   ]
  },
  {
   "cell_type": "code",
   "execution_count": 51,
   "id": "a5ef1ecb",
   "metadata": {},
   "outputs": [
    {
     "data": {
      "image/png": "[encoded data removed]",
      "text/plain": [
       "<Figure size 1200x600 with 32 Axes>"
      ]
     },
     "metadata": {},
     "output_type": "display_data"
    }
   ],
   "source": [
    "# Accessing the weights of the first convolutional layer\n",
    "conv1_weights = model.features[0].weight.data\n",
    "\n",
    "# Visualizing the weights\n",
    "fig, axs = plt.subplots(4, 8, figsize=(12, 6))\n",
    "fig.suptitle('Weights of the First Convolutional Layer')\n",
    "\n",
    "for i in range(4):\n",
    "    for j in range(8):\n",
    "        filter_index = i * 8 + j\n",
    "        filter_weights = conv1_weights[filter_index].cpu().numpy()\n",
    "        axs[i, j].imshow(filter_weights[0], cmap='gray')  # Assuming single-channel filters\n",
    "        axs[i, j].axis('off')\n",
    "\n",
    "plt.show()\n"
   ]
  },
  {
   "cell_type": "markdown",
   "id": "75731013",
   "metadata": {},
   "source": [
    "Also, show the statistics of the activations in the convolutional layers on test images."
   ]
  },
  {
   "cell_type": "code",
   "execution_count": null,
   "id": "1e15fce3",
   "metadata": {},
   "outputs": [],
   "source": [
    "import torch\n",
    "import torch.nn as nn\n",
    "import matplotlib.pyplot as plt\n",
    "\n",
    "# Assuming `model` is your trained PyTorch model\n",
    "\n",
    "class ActivationStatistics:\n",
    "    def __init__(self, model, layer_index):\n",
    "        self.model = model\n",
    "        self.layer_index = layer_index\n",
    "        self.activations = []\n",
    "\n",
    "        # Register a hook for the chosen layer\n",
    "        self.hook = model.features[layer_index].register_forward_hook(self.hook_fn)\n",
    "\n",
    "    def hook_fn(self, module, input, output):\n",
    "        # Save the activations during the forward pass\n",
    "        self.activations.append(output.detach().cpu().numpy())\n",
    "\n",
    "    def close(self):\n",
    "        # Remove the hook when done\n",
    "        self.hook.remove()\n",
    "\n",
    "    def plot_histogram(self):\n",
    "        # Plot the histogram of activations\n",
    "        activations = torch.cat([torch.from_numpy(act.flatten()) for act in self.activations])\n",
    "        plt.figure()\n",
    "        plt.hist(activations.numpy(), bins=50)\n",
    "        plt.xlabel('Output magnitude')\n",
    "        plt.ylabel('Count')\n",
    "        plt.title(f'Convolutional Layer Activations {self.layer_index + 1}\\n(μ = black, σ boundaries = red)')\n",
    "        plt.axvline(activations.mean(), color='k', linestyle='dashed', linewidth=3)\n",
    "        plt.axvline(activations.mean() - activations.var()**0.5, color='r', linestyle='dashed', linewidth=2)\n",
    "        plt.axvline(activations.mean() + activations.var()**0.5, color='r', linestyle='dashed', linewidth=2)\n",
    "        plt.show()\n"
   ]
  },
  {
   "cell_type": "markdown",
   "id": "b4dc4f4f",
   "metadata": {},
   "source": [
    "First convoluional layer"
   ]
  },
  {
   "cell_type": "code",
   "execution_count": null,
   "id": "9635f5b2",
   "metadata": {},
   "outputs": [],
   "source": [
    "activation_stats_first_layer = ActivationStatistics(model, layer_index=0)\n",
    "\n",
    "# Assuming `test_loader` is your PyTorch DataLoader for test images\n",
    "with torch.no_grad():\n",
    "    for data, _ in test_loader:\n",
    "        data = data.to(device)\n",
    "        _ = model(data)\n",
    "\n",
    "# Plot the histogram of activations for the second layer\n",
    "activation_stats_first_layer.plot_histogram()\n",
    "\n",
    "# Close the hook for the second layer\n",
    "activation_stats_first_layer.close()"
   ]
  },
  {
   "cell_type": "markdown",
   "id": "54296a77",
   "metadata": {},
   "source": [
    "Second convolutional layer"
   ]
  },
  {
   "cell_type": "code",
   "execution_count": null,
   "id": "6c74eec9",
   "metadata": {},
   "outputs": [],
   "source": [
    "activation_stats_second_layer = ActivationStatistics(model, layer_index=1)\n",
    "\n",
    "# Assuming `test_loader` is your PyTorch DataLoader for test images\n",
    "with torch.no_grad():\n",
    "    for data, _ in test_loader:\n",
    "        data = data.to(device)\n",
    "        _ = model(data)\n",
    "\n",
    "# Plot the histogram of activations for the second layer\n",
    "activation_stats_second_layer.plot_histogram()\n",
    "\n",
    "# Close the hook for the second layer\n",
    "activation_stats_second_layer.close()"
   ]
  },
  {
   "cell_type": "markdown",
   "id": "86c8445f",
   "metadata": {},
   "source": [
    "# Part 2: Visualizing and Understanding Convolutional Networks Paper Notes"
   ]
  },
  {
   "cell_type": "code",
   "execution_count": null,
   "id": "e7190d0a",
   "metadata": {},
   "outputs": [],
   "source": []
  },
  {
   "cell_type": "code",
   "execution_count": null,
   "id": "a2021928",
   "metadata": {},
   "outputs": [],
   "source": [
    "assert(1==0)"
   ]
  },
  {
   "cell_type": "markdown",
   "id": "850e421d",
   "metadata": {},
   "source": [
    "# Part 3: MNIST RNN\n",
    "## 3a: Setup an RNN: \n",
    "> With a CNN, we would send in full images, yet with the RNN, inputs to the network are 28 pixel chunks of the images. For example, each row of the  image will be sent to the network at each iteration. Use the starter code provided on the Canvas assignment page (assignment 2 part 2 rnn mnist skeleton.py) to implement a RNN model on the MNIST dataset like in Assignment 1. You should modify the following parameters to test how the model differs in performance.\n",
    "- Number of nodes in the hidden layer\n",
    "- Learning rate\n",
    "- Number of iterations\n",
    "- Optimizer"
   ]
  },
  {
   "cell_type": "code",
   "execution_count": 52,
   "id": "f72336dd",
   "metadata": {},
   "outputs": [
    {
     "data": {
      "text/plain": [
       "0"
      ]
     },
     "execution_count": 52,
     "metadata": {},
     "output_type": "execute_result"
    }
   ],
   "source": [
    "# -*- coding: utf-8 -*-\n",
    "\"\"\"Assignment_2_Part_2_RNN_MNIST_vp1.ipynb\n",
    "Overall structure:\n",
    "\n",
    "1) Set Pytorch metada\n",
    "- seed\n",
    "- tensorflow output\n",
    "- whether to transfer to gpu (cuda)\n",
    "\n",
    "2) Import data\n",
    "- download data\n",
    "- create data loaders with batchsie, transforms, scaling\n",
    "\n",
    "3) Define Model architecture, loss and optimizer\n",
    "\n",
    "4) Define Test and Training loop\n",
    "    - Train:\n",
    "        a. get next batch\n",
    "        b. forward pass through model\n",
    "        c. calculate loss\n",
    "        d. backward pass from loss (calculates the gradient for each parameter)\n",
    "        e. optimizer: performs weight updates\n",
    "\n",
    "5) Perform Training over multiple epochs:\n",
    "    Each epoch:\n",
    "    - call train loop\n",
    "    - call test loop\n",
    "\n",
    "# Step 1: Pytorch and Training Metadata\n",
    "\n",
    "import torch\n",
    "import torch.nn as nn\n",
    "import torch.nn.functional as F\n",
    "import torch.optim as optim\n",
    "from torchvision import datasets, transforms\n",
    "from torch.utils.data import DataLoader\n",
    "\n",
    "from torch.utils.tensorboard import SummaryWriter\n",
    "from datetime import datetime\n",
    "import os\n",
    "from pathlib import Path\n",
    "import matplotlib.pyplot as plt\n",
    "\"\"\"\n",
    "0"
   ]
  },
  {
   "cell_type": "code",
   "execution_count": 74,
   "id": "4e6102ce",
   "metadata": {},
   "outputs": [],
   "source": [
    "\n",
    "try_cuda = True\n",
    "seed = 1000\n",
    "logging_interval = 10 # how many batches to wait before logging\n",
    "logging_dir = None\n",
    "INPUT_SIZE = 28\n",
    "batch_size = 64\n",
    "test_batch_size = 1000\n",
    "\n",
    "# 1) setting up the logging\n",
    "\n",
    "datetime_str = datetime.now().strftime('%b%d_%H-%M-%S')\n",
    "\n",
    "if logging_dir is None:\n",
    "    runs_dir = Path(\"./\") / Path(f\"runs/\")\n",
    "    runs_dir.mkdir(exist_ok = True)\n",
    "\n",
    "    logging_dir = runs_dir / Path(f\"{datetime_str}\")\n",
    "\n",
    "    logging_dir.mkdir(exist_ok = True)\n",
    "    logging_dir = str(logging_dir.absolute())\n",
    "\n",
    "writer = SummaryWriter(log_dir=logging_dir)\n",
    "\n",
    "#deciding whether to send to the cpu or not if available\n",
    "if torch.cuda.is_available() and try_cuda:\n",
    "    cuda = True\n",
    "    torch.cuda.manual_seed(seed)\n",
    "else:\n",
    "    cuda = False\n",
    "    torch.manual_seed(seed)"
   ]
  },
  {
   "cell_type": "code",
   "execution_count": 75,
   "id": "11ded1c2",
   "metadata": {},
   "outputs": [
    {
     "name": "stdout",
     "output_type": "stream",
     "text": [
      "torch.Size([60000, 28, 28])\n",
      "torch.Size([60000])\n"
     ]
    },
    {
     "data": {
      "image/png": "[encoded data removed]",
      "text/plain": [
       "<Figure size 640x480 with 1 Axes>"
      ]
     },
     "metadata": {},
     "output_type": "display_data"
    }
   ],
   "source": [
    "\"\"\"# Step 2: Data Setup\"\"\"\n",
    "\n",
    "# Setting up data\n",
    "#transform=[insert-code: create transforms]\n",
    "#train_dataset = [insert-code: download and transform cifar10 training data]\n",
    "#test_dataset = [insert-code: download and transform cifar10 test data]\n",
    "#train_loader = [insert-code: create train data loader]\n",
    "#test_loader = [insert-code: create test data loader]\n",
    "transform = transforms.Compose([\n",
    "    transforms.Grayscale(num_output_channels=1),  # Convert images to grayscale\n",
    "    transforms.ToTensor(),  # Converts to torch.FloatTensor of shape (C x H x W) in the range [0.0, 1.0]\n",
    "    transforms.Normalize((0.5,), (0.5,))  # Scale values to range [-1, 1]\n",
    "])\n",
    "# Download MNIST dataset (<datasets> is from torchvision)\n",
    "train_dataset = datasets.MNIST(root='./data', train=True, download=True, transform=transform)\n",
    "test_dataset = datasets.MNIST(root='./data', train=False, download=True, transform=transform)\n",
    "# Set up train/test loaders\n",
    "train_loader = torch.utils.data.DataLoader(dataset=train_dataset, batch_size=batch_size, shuffle=True)\n",
    "test_loader = torch.utils.data.DataLoader(dataset=test_dataset, batch_size=batch_size, shuffle=False)\n",
    "\n",
    "# plot one example\n",
    "print(train_dataset.train_data.size())     # (60000, 28, 28)\n",
    "print(train_dataset.train_labels.size())   # (60000)\n",
    "plt.imshow(train_dataset.train_data[0].numpy(), cmap='gray')\n",
    "plt.title('%i' % train_dataset.train_labels[0])\n",
    "plt.show()\n",
    "\n"
   ]
  },
  {
   "cell_type": "code",
   "execution_count": 76,
   "id": "0ea4a829",
   "metadata": {},
   "outputs": [
    {
     "ename": "NameError",
     "evalue": "name 'input_size' is not defined",
     "output_type": "error",
     "traceback": [
      "\u001b[1;31m---------------------------------------------------------------------------\u001b[0m",
      "\u001b[1;31mNameError\u001b[0m                                 Traceback (most recent call last)",
      "Cell \u001b[1;32mIn[76], line 24\u001b[0m\n\u001b[0;32m     21\u001b[0m         out \u001b[38;5;241m=\u001b[39m \u001b[38;5;28mself\u001b[39m\u001b[38;5;241m.\u001b[39mout(r_out[:, \u001b[38;5;241m-\u001b[39m\u001b[38;5;241m1\u001b[39m, :])\n\u001b[0;32m     22\u001b[0m         \u001b[38;5;28;01mreturn\u001b[39;00m out\n\u001b[1;32m---> 24\u001b[0m model \u001b[38;5;241m=\u001b[39m \u001b[43mNet\u001b[49m\u001b[43m(\u001b[49m\u001b[43m)\u001b[49m\n\u001b[0;32m     26\u001b[0m \u001b[38;5;28;01mif\u001b[39;00m cuda:\n\u001b[0;32m     27\u001b[0m     model\u001b[38;5;241m.\u001b[39mcuda()\n",
      "Cell \u001b[1;32mIn[76], line 9\u001b[0m, in \u001b[0;36mNet.__init__\u001b[1;34m(self)\u001b[0m\n\u001b[0;32m      5\u001b[0m \u001b[38;5;28msuper\u001b[39m(Net, \u001b[38;5;28mself\u001b[39m)\u001b[38;5;241m.\u001b[39m\u001b[38;5;21m__init__\u001b[39m()\n\u001b[0;32m      7\u001b[0m \u001b[38;5;66;03m#self.rnn = [insert_code]\u001b[39;00m\n\u001b[0;32m      8\u001b[0m \u001b[38;5;66;03m# LSTM layer\u001b[39;00m\n\u001b[1;32m----> 9\u001b[0m \u001b[38;5;28mself\u001b[39m\u001b[38;5;241m.\u001b[39mrnn \u001b[38;5;241m=\u001b[39m nn\u001b[38;5;241m.\u001b[39mLSTM(input_size\u001b[38;5;241m=\u001b[39m\u001b[43minput_size\u001b[49m, hidden_size\u001b[38;5;241m=\u001b[39mhidden_size, num_layers\u001b[38;5;241m=\u001b[39mnum_layers, batch_first\u001b[38;5;241m=\u001b[39m\u001b[38;5;28;01mTrue\u001b[39;00m)\n\u001b[0;32m     10\u001b[0m \u001b[38;5;66;03m# Linear layer\u001b[39;00m\n\u001b[0;32m     11\u001b[0m \u001b[38;5;28mself\u001b[39m\u001b[38;5;241m.\u001b[39mout \u001b[38;5;241m=\u001b[39m nn\u001b[38;5;241m.\u001b[39mLinear(hidden_size, output_size)\n",
      "\u001b[1;31mNameError\u001b[0m: name 'input_size' is not defined"
     ]
    }
   ],
   "source": [
    "\"\"\"# Step 3: Creating the Model\"\"\"\n",
    "\n",
    "class Net(nn.Module):\n",
    "    def __init__(self):\n",
    "        super(Net, self).__init__()\n",
    "\n",
    "        #self.rnn = [insert_code]\n",
    "        # LSTM layer\n",
    "        self.rnn = nn.LSTM(input_size=input_size, hidden_size=hidden_size, num_layers=num_layers, batch_first=True)\n",
    "        # Linear layer\n",
    "        self.out = nn.Linear(hidden_size, output_size)\n",
    "\n",
    "    def forward(self, x):\n",
    "        # x shape (batch, time_step, input_size)\n",
    "        # r_out shape (batch, time_step, output_size)\n",
    "        # h_n shape (n_layers, batch, hidden_size)\n",
    "        # h_c shape (n_layers, batch, hidden_size)\n",
    "        r_out, hidden = self.rnn(x, None)   # None represents zero initial hidden state\n",
    "\n",
    "        # choose r_out at the last time step\n",
    "        out = self.out(r_out[:, -1, :])\n",
    "        return out\n",
    "\n",
    "model = Net()\n",
    "\n",
    "if cuda:\n",
    "    model.cuda()"
   ]
  },
  {
   "cell_type": "code",
   "execution_count": null,
   "id": "a36d5c85",
   "metadata": {},
   "outputs": [],
   "source": [
    "#optimizer = [insert-code: USE AN ADAM OPTIMIZER]\n",
    "# Set all the learning hyperparams\n",
    "#epochs = 25 # 5_500 iters of 50-image batches from a 55_000 image dataset = 5 epochs through the whole dataset\n",
    "epochs = 10\n",
    "lr = 0.01 #1e-3 #1e-4    #0.01 WAS THE DEFAULT\n",
    "optimizer = optim.Adam(model.parameters(), lr=lr) \n",
    "#optimizer = optim.SGD(model.parameters(), lr=lr) \n",
    "#optimizer = optim.Adagrad(model.parameters(), lr=lr) \n",
    "#optimizer = optim.Nadam(model.parameters(), lr=lr)\n",
    "#dropout = 0.8"
   ]
  },
  {
   "cell_type": "code",
   "execution_count": null,
   "id": "675b8d22",
   "metadata": {},
   "outputs": [],
   "source": [
    "\"\"\"# Step 4: Train/Test\"\"\"\n",
    "\n",
    "# Defining the test and trainig loops\n",
    "\n",
    "def train(epoch):\n",
    "    model.train()\n",
    "    train_loss = 0\n",
    "    correct = 0\n",
    "    total = 0\n",
    "\n",
    "    criterion = nn.CrossEntropyLoss()\n",
    "    for batch_idx, (data, target) in enumerate(train_loader):\n",
    "        if cuda:\n",
    "            data, target = data.cuda(), target.cuda()        \n",
    "\n",
    "        optimizer.zero_grad()\n",
    "        output = model(data)  # forward\n",
    "        loss = criterion(output, target)\n",
    "        #[insert-code: implement training loop with logging]\n",
    "        loss.backward()\n",
    "        optimizer.step()\n",
    "\n",
    "        train_loss += loss.item()\n",
    "\n",
    "        # Calculate accuracy\n",
    "        _, predicted = output.max(1)\n",
    "        total += target.size(0)\n",
    "        correct += predicted.eq(target).sum().item()\n",
    "\n",
    "    # Log training statistics\n",
    "    print(f'Train Epoch: {epoch} [{batch_idx * len(data)}/{len(train_loader.dataset)} '\n",
    "              f'({100. * batch_idx / len(train_loader):.0f}%)]\\tLoss: {loss.item():.6f}')\n",
    "\n",
    "    # Calculate and log average training loss and accuracy\n",
    "    avg_loss = train_loss / len(train_loader)\n",
    "    accuracy = correct / total\n",
    "    print(f'Train Epoch: {epoch}\\tAverage Loss: {avg_loss:.6f}\\tAccuracy: {100 * accuracy:.2f}%')\n",
    "    return avg_loss, accuracy\n",
    "    \n",
    "\n",
    "def test(epoch):\n",
    "    #[insert-code: implement testing loop with logging]\n",
    "    model.eval()\n",
    "    test_loss = 0\n",
    "    correct = 0\n",
    "    total = 0\n",
    "\n",
    "    criterion = nn.CrossEntropyLoss()\n",
    "\n",
    "    with torch.no_grad():\n",
    "        for batch_idx, (data, target) in enumerate(test_loader):\n",
    "            if cuda:\n",
    "                data, target = data.cuda(), target.cuda()\n",
    "\n",
    "            data = data.view(-1, 28, 28)\n",
    "\n",
    "            output = model(data)\n",
    "            loss = criterion(output, target)\n",
    "\n",
    "            # Update test loss\n",
    "            test_loss += loss.item()\n",
    "\n",
    "            # Calculate accuracy\n",
    "            _, predicted = output.max(1)\n",
    "            total += target.size(0)\n",
    "            correct += predicted.eq(target).sum().item()\n",
    "\n",
    "    # Calculate and log average test loss and accuracy\n",
    "    avg_loss = test_loss / len(test_loader)\n",
    "    accuracy = correct / total\n",
    "    print(f'Test Epoch: {epoch}\\tAverage Loss: {avg_loss:.6f}\\tAccuracy: {100 * accuracy:.2f}%')"
   ]
  },
  {
   "cell_type": "code",
   "execution_count": null,
   "id": "79a7ea58",
   "metadata": {},
   "outputs": [],
   "source": [
    "# Training loop\n",
    "train_loss_list = []\n",
    "train_accuracy_list = []\n",
    "test_loss_list = []\n",
    "test_accuracy_list = []\n",
    "\n",
    "for epoch in range(epochs):\n",
    "    print(f\"Epoch {epoch+1} of {epochs}\")\n",
    "    train_loss, train_accuracy = train(epoch)\n",
    "    test_loss, test_accuracy = test(epoch)\n",
    "\n",
    "    train_loss_list.append(train_loss)\n",
    "    train_accuracy_list.append(train_accuracy)\n",
    "    test_loss_list.append(test_loss)\n",
    "    test_accuracy_list.append(test_accuracy)  \n",
    "    print()\n",
    "        \n",
    "#[insert-code: running test and training over epoch]\n",
    "writer.close()\n",
    "\n",
    "# Commented out IPython magic to ensure Python compatibility.\n",
    "\"\"\"\n",
    "#https://stackoverflow.com/questions/55970686/tensorboard-not-found-as-magic-function-in-jupyter\n",
    "\n",
    "#seems to be working in firefox when not working in Google Chrome when running in Colab\n",
    "#https://stackoverflow.com/questions/64218755/getting-error-403-in-google-colab-with-tensorboard-with-firefox\n",
    "\n",
    "\n",
    "# %load_ext tensorboard\n",
    "# %tensorboard --logdir [dir]\n",
    "\n",
    "\"\"\"\n",
    "0"
   ]
  },
  {
   "cell_type": "code",
   "execution_count": null,
   "id": "c38d98c1",
   "metadata": {},
   "outputs": [],
   "source": [
    "# Plotting accuracy curves\n",
    "plt.figure(figsize=(10, 5))\n",
    "plt.plot(train_accuracy_list, label='Training Accuracy')\n",
    "plt.plot(test_accuracy_list, label='Testing Accuracy')\n",
    "plt.xticks(range(epochs))\n",
    "plt.xlabel('Epoch')\n",
    "plt.ylabel('Accuracy')\n",
    "plt.legend()\n",
    "plt.title('Training and Testing Accuracy Curves')\n",
    "plt.show()"
   ]
  },
  {
   "cell_type": "code",
   "execution_count": null,
   "id": "336b1e8e",
   "metadata": {},
   "outputs": [],
   "source": []
  },
  {
   "cell_type": "code",
   "execution_count": null,
   "id": "651b4374",
   "metadata": {},
   "outputs": [],
   "source": []
  },
  {
   "cell_type": "code",
   "execution_count": null,
   "id": "0486e984",
   "metadata": {},
   "outputs": [],
   "source": []
  },
  {
   "cell_type": "markdown",
   "id": "2e787bfa",
   "metadata": {},
   "source": [
    "## 3b: How about using an LSTM or GRU\n",
    "> Change the starter code to use LSTM and GRU instead of RNN (hint: this should be a very easy modular change to a couple lines of code if you are doing it right)."
   ]
  },
  {
   "cell_type": "code",
   "execution_count": null,
   "id": "68f10a1e",
   "metadata": {},
   "outputs": [],
   "source": []
  },
  {
   "cell_type": "code",
   "execution_count": null,
   "id": "061ac80b",
   "metadata": {},
   "outputs": [],
   "source": []
  },
  {
   "cell_type": "markdown",
   "id": "2d9ff79e",
   "metadata": {},
   "source": [
    "Plot the train/test accuracies and the train loss. What do you notice and are the LSTM or GRU better? Also, change the number of hidden units and see how that affects the loss and accuracy."
   ]
  },
  {
   "cell_type": "code",
   "execution_count": null,
   "id": "c95c11b5",
   "metadata": {},
   "outputs": [],
   "source": []
  },
  {
   "cell_type": "code",
   "execution_count": null,
   "id": "2ff3c6fd",
   "metadata": {},
   "outputs": [],
   "source": []
  },
  {
   "cell_type": "markdown",
   "id": "3a26d340",
   "metadata": {},
   "source": [
    "## 3c Compare against the CNN\n",
    "> Compare with training using convnet in assignment 1 and describe any similarities or differences."
   ]
  },
  {
   "cell_type": "code",
   "execution_count": null,
   "id": "d8f2e2d3",
   "metadata": {},
   "outputs": [],
   "source": []
  },
  {
   "cell_type": "code",
   "execution_count": null,
   "id": "e9e36566",
   "metadata": {},
   "outputs": [],
   "source": []
  }
 ],
 "metadata": {
  "kernelspec": {
   "display_name": "Python 3 (ipykernel)",
   "language": "python",
   "name": "python3"
  },
  "language_info": {
   "codemirror_mode": {
    "name": "ipython",
    "version": 3
   },
   "file_extension": ".py",
   "mimetype": "text/x-python",
   "name": "python",
   "nbconvert_exporter": "python",
   "pygments_lexer": "ipython3",
   "version": "3.10.9"
  }
 },
 "nbformat": 4,
 "nbformat_minor": 5
}
